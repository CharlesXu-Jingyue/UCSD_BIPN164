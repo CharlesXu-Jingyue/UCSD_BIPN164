{
  "nbformat": 4,
  "nbformat_minor": 0,
  "metadata": {
    "colab": {
      "name": "BGGN 164 HW1.ipynb",
      "provenance": [],
      "collapsed_sections": [],
      "include_colab_link": true
    },
    "kernelspec": {
      "name": "python3",
      "display_name": "Python 3"
    },
    "language_info": {
      "name": "python"
    }
  },
  "cells": [
    {
      "cell_type": "markdown",
      "metadata": {
        "id": "view-in-github",
        "colab_type": "text"
      },
      "source": [
        "<a href=\"https://colab.research.google.com/github/xrsAlveus/UCSD_BIPN164/blob/main/BGGN_164_HW1.ipynb\" target=\"_parent\"><img src=\"https://colab.research.google.com/assets/colab-badge.svg\" alt=\"Open In Colab\"/></a>"
      ]
    },
    {
      "cell_type": "markdown",
      "source": [
        "Name:\n",
        "\n",
        "Group number:"
      ],
      "metadata": {
        "id": "2c2T3izC1mda"
      }
    },
    {
      "cell_type": "markdown",
      "source": [
        "# Instructions:\n",
        "**To start working on this Homework, create a copy of this notebook and save it within your Google Drive (File -> Save a copy in Drive).**\n",
        "\n",
        "This Jupyter notebook contains 4 exercises consisting of coding and discussion questions. For the discussion questions, please write your answer within a new text cell. Please hand in your .ipynb file (File -> Download -> Download .ipynb) on canvas by midnight on **April 18th**.\n",
        "\n",
        "To execute the code, it is necessary to load some external packages, so please execute the following code block."
      ],
      "metadata": {
        "id": "rPUHl2ebzcR6"
      }
    },
    {
      "cell_type": "code",
      "execution_count": null,
      "metadata": {
        "id": "zPC5dnbfcpvt",
        "cellView": "form"
      },
      "outputs": [],
      "source": [
        "# @title Load packages\n",
        "import numpy as np\n",
        "import scipy.signal as sps\n",
        "import matplotlib.pyplot as plt\n",
        "from scipy.integrate import odeint"
      ]
    },
    {
      "cell_type": "markdown",
      "source": [
        "# Exercise 1 - The Hodgkin Huxley model\n",
        "\n",
        "## 1a.\n",
        "Simulate a Hodgkin Huxley (HH) neuron subject to a single pulse current injection.\n",
        "  * Plot the voltage as a function of time for different current amplitudes.\n",
        "  * What is the spike threshold?\n",
        "  * Bonus: Does the spike threshold depend on the duration of the pulse?\n",
        "\n",
        "## 1b.\n",
        "Simulate a HH neuron subject to a direct (constant) current injection.\n",
        "* Characterize the voltage response as function of the current amplitude.\n",
        "* Plot the f-I curve.\n",
        "\n",
        "## 1c.\n",
        "For the HH neuron in Exercise 1a,\n",
        "* Pick a current amplitude above the spiking threshold.\n",
        "* For each pair of variables V, m, n, h (6 pairs), plot one variable as a function of the other. \n",
        "* Identify pairs that are most strongly correlated. \n",
        "  How can this identification help in reducing the neuron model’s dimension?\n",
        "\n",
        "* Does the choice of current amplitude affect which pairs of variables are most correlated?\n",
        "\n"
      ],
      "metadata": {
        "id": "_uSaLzvYcuft"
      }
    },
    {
      "cell_type": "markdown",
      "source": [
        "To implement the HH model, you will need to implement the equations to model the Sodium, Potassium, and Leak currents:\n",
        "\n",
        "All the equations necessary to model the Sodium current:\n",
        "\n",
        "\\begin{align}\n",
        "  I_{Na}   &= \\bar{g}_{Na} m^3 h (V-E_{Na})\\\\\n",
        "  \\alpha_m &= 0.1 \\frac{V+40}{1-e^{-\\frac{V+40}{10}}} \\\\\n",
        "  \\beta_m  &= 4 e^{-\\frac{V+65}{18}} \\\\\n",
        "  \\tau_m &= \\frac{1}{\\alpha_m(V) + \\beta_m(V)} \\\\\n",
        "  m_0 &= \\frac{\\alpha_m(V)}{\\alpha_m(V) + \\beta_m(V)}\\\\\n",
        "  \\frac{dm}{dt} &= -\\frac{1}{\\tau_m (V)}[m-m_0(V)] \\\\\n",
        "  \\alpha_h &= 0.07 e^{-\\frac{V+65}{20}} \\\\\n",
        "  \\beta_h  &= \\frac{1}{1+e^{-\\frac{V+35}{10}}} \\\\\n",
        "  \\tau_h &= \\frac{1}{\\alpha_h(V) + \\beta_h(V)} \\\\\n",
        "  h_0 &= \\frac{\\alpha_h(V)}{\\alpha_h(V) + \\beta_h(V)}\\\\\n",
        "  \\frac{dh}{dt} &= -\\frac{1}{\\tau_h (V)}[h-h_0(V)] \\\\\n",
        "\\end{align}\n",
        "\n",
        "All the equations necessary to model the Potassium current:\n",
        "\\begin{align}\n",
        "  I_{K}   &= \\bar{g}_{K} n^4 (V-E_{K})\\\\\n",
        "  \\alpha_n &= 0.01 \\frac{V+55}{1-e^{-\\frac{V+55}{10}}} \\\\\n",
        "  \\beta_n  &= 0.125 e^{-\\frac{V+65}{80}}\\\\\n",
        "  \\tau_n &= \\frac{1}{\\alpha_n(V) + \\beta_n(V)} \\\\\n",
        "  n_0 &= \\frac{\\alpha_n(V)}{\\alpha_n(V) + \\beta_n(V)}\\\\\n",
        "  \\frac{dn}{dt} &= -\\frac{1}{\\tau_n (V)}[n-n_0(V)] \\\\\n",
        "\\end{align}\n",
        "\n",
        "All the equations to model the Leak current:\n",
        "\\begin{align}\n",
        "  I_{L}   &= \\bar{g}_{L} (V-E_{L})\\\\\n",
        "\\end{align}\n",
        "\n",
        "Finally, the equation to model the change in the membrane potential due to some injected current $I_{inj}$:\n",
        "$$ \\frac{dV}{dt} = (I_{inj}(t) - I_{Na} - I_K - I_L)/ C_m $$"
      ],
      "metadata": {
        "id": "xgZCd5UkehPA"
      }
    },
    {
      "cell_type": "markdown",
      "source": [
        "Some general hints:\n",
        "\n",
        "For creating plots, we have imported matplotlib's pyplot package above. Be sure to read up on the official [documentation](https://matplotlib.org/3.5.1/api/_as_gen/matplotlib.pyplot.html) in case you get stuck. I have listed some functions that could be helpful below:\n",
        "\n",
        "\n",
        "*   plt.[figure()](https://matplotlib.org/3.5.1/api/_as_gen/matplotlib.pyplot.figure.html) - Create a new figure.\n",
        "* plt.[subplot()](https://matplotlib.org/3.5.1/api/_as_gen/matplotlib.pyplot.subplot.html) - Useful for creating multiple plots in one figure (for further information, see [here](https://matplotlib.org/stable/gallery/subplots_axes_and_figures/multiple_figs_demo.html)).\n",
        "*   plt.[plot()](https://matplotlib.org/3.5.1/api/_as_gen/matplotlib.pyplot.plot.html#matplotlib.pyplot.plot) -  \tPlot y versus x as lines and/or markers.\n",
        "* plt.[title()](https://matplotlib.org/3.5.1/api/_as_gen/matplotlib.pyplot.title.html#matplotlib.pyplot.title) - Set a Title.\n",
        "* plt.[xlabel()](https://matplotlib.org/3.5.1/api/_as_gen/matplotlib.pyplot.xlabel.html#matplotlib.pyplot.xlabel) / plt.ylabel() - Label the axes.\n",
        "* plt.[hist()](https://matplotlib.org/3.5.1/api/_as_gen/matplotlib.pyplot.hist.html#matplotlib.pyplot.hist) - Plot a histogram.\n",
        "* plt.[scatter()](https://matplotlib.org/3.5.1/api/_as_gen/matplotlib.pyplot.scatter.html#matplotlib.pyplot.scatter) - Plot a scatter plot.\n",
        "\n",
        "\n",
        "\n",
        "For example, a simple plot of the sine and the cosine function could look like this:\n",
        "```\n",
        "import numpy as np\n",
        "import matplotlib.pyplot as plt\n",
        "\n",
        "x = np.arange(0, 5, 0.1)\n",
        "y = np.sin(x)\n",
        "y2= np.cos(x)\n",
        "plt.plot(x, y, label='sin(x)')  # plot y as a function of x\n",
        "plt.plot(x, y2, label='cos(x)') # plot y2 as a function of x\n",
        "\n",
        "plt.title('Some title')    # set a title\n",
        "plt.xlabel('X')            # label the x-axis\n",
        "plt.ylabel('Y')            # label the y-axis\n",
        "plt.legend()               # create a legend\n",
        "plt.show()                 # show the plot. (not necessary for Jupyter notebooks/ Colab)\n",
        "\n",
        "```\n",
        "\n",
        "**Useful Resources**:\n",
        "[Neuronal Dynamics, Chapter 2.2](https://neuronaldynamics.epfl.ch/online/Ch2.S2.html#Ch2.F3)\n",
        "\n"
      ],
      "metadata": {
        "id": "gbauCQG3Z2vL"
      }
    },
    {
      "cell_type": "code",
      "source": [
        "class HodgkinHuxley():\n",
        "    \"\"\"Full Hodgkin-Huxley Model implemented in Python\"\"\"\n",
        "    def __init__(self,time):\n",
        "        self.t = time\n",
        "\n",
        "\n",
        "    # HH Constants                                           \n",
        "    C_m  =   1.0    # [uF/cm^2] membrane capacitance\n",
        "    g_Na = 120.0    # [mS/cm^2] Sodium (Na) maximum conductance\n",
        "    g_K  =  36.0    # [mS/cm^2] Postassium (K) maximum conductance\n",
        "    g_L  =   0.3    # [mS/cm^2] Leak maximum conductance\n",
        "\n",
        "    E_Na =  50.0    # [mV] Sodium (Na) Nernst reversal potential\n",
        "    E_K  = -77.0    # [mV] Potassium (K) Nernst reversal potential\n",
        "    E_L  = -54.387  # [mV] Leak Nernst reversal potential\n",
        "\n",
        "    def alpha_m(self, V):\n",
        "        \"\"\"Channel gating kinetics. Functions of membrane voltage\"\"\"\n",
        "        return 0.1*(V+40.0)/(1.0 - np.exp(-(V+40.0) / 10.0))\n",
        "\n",
        "    def beta_m(self, V):\n",
        "        \"\"\"Channel gating kinetics. Functions of membrane voltage\"\"\"\n",
        "        return ...\n",
        "\n",
        "    def tau_m(self, V):\n",
        "        \"\"\"Channel gating kinetics. Functions of membrane voltage\"\"\"\n",
        "        return ...\n",
        "\n",
        "    def m_0(self, V):\n",
        "        \"\"\"Channel gating kinetics. Functions of membrane voltage\"\"\"\n",
        "        return ...\n",
        "\n",
        "    def alpha_h(self, V):\n",
        "        \"\"\"Channel gating kinetics. Functions of membrane voltage\"\"\"\n",
        "        return ...\n",
        "\n",
        "    def beta_h(self, V):\n",
        "        \"\"\"Channel gating kinetics. Functions of membrane voltage\"\"\"\n",
        "        return ...\n",
        "\n",
        "    def tau_h(self, V):\n",
        "        \"\"\"Channel gating kinetics. Functions of membrane voltage\"\"\"\n",
        "        return ...\n",
        "\n",
        "    def h_0(self, V):\n",
        "        \"\"\"Channel gating kinetics. Functions of membrane voltage\"\"\"\n",
        "        return ...\n",
        "\n",
        "    def alpha_n(self, V):\n",
        "        \"\"\"Channel gating kinetics. Functions of membrane voltage\"\"\"\n",
        "        return ...\n",
        "\n",
        "    def beta_n(self, V):\n",
        "        \"\"\"Channel gating kinetics. Functions of membrane voltage\"\"\"\n",
        "        return ...\n",
        "\n",
        "    def tau_n(self, V):\n",
        "        \"\"\"Channel gating kinetics. Functions of membrane voltage\"\"\"\n",
        "        return ...\n",
        "\n",
        "    def n_0(self, V):\n",
        "        \"\"\"Channel gating kinetics. Functions of membrane voltage\"\"\"\n",
        "        return ...\n",
        "\n",
        "    def I_Na(self, V, m, h):\n",
        "        \"\"\"\n",
        "        Membrane current (in uA/cm^2)\n",
        "        Sodium (Na = element name)\n",
        "        \"\"\"\n",
        "        return ...\n",
        "\n",
        "    def I_K(self, V, n):\n",
        "        \"\"\"\n",
        "        Membrane current (in uA/cm^2)\n",
        "        Potassium (K = element name)\n",
        "        \"\"\"\n",
        "        return ...\n",
        "    \n",
        "    #  Leak \n",
        "    def I_L(self, V):\n",
        "        \"\"\"\n",
        "        Membrane current (in uA/cm^2)\n",
        "        Leak\n",
        "        \"\"\"\n",
        "        return ...\n",
        "\n",
        "    def I_inj(self, t, iinj):\n",
        "        \"\"\"\n",
        "        External Current\n",
        "        \"\"\"\n",
        "        return iinj[0]*(t>iinj[1]) - iinj[0]*(t>iinj[2])\n",
        "\n",
        "    @staticmethod\n",
        "    def dALLdt(X, t, self):\n",
        "        \"\"\"\n",
        "        Calculate the change in each of the variables.\n",
        "\n",
        "        |  :param X:\n",
        "        |  :param t:\n",
        "        |  :return: calculate membrane potential & activation variables\n",
        "        \"\"\"\n",
        "        V, m, h, n = X\n",
        "\n",
        "        dVdt = ...\n",
        "        dmdt = ...\n",
        "        dhdt = ...\n",
        "        dndt = ...\n",
        "        return dVdt, dmdt, dhdt, dndt\n",
        "\n",
        "    def HH_EX1a(self,iamp,tstep):\n",
        "        \"\"\"\n",
        "        Simulate a Hodgkin Huxley (HH) neuron subject to a single pulse current injection.\n",
        "\n",
        "        Plot the voltage as a function of time for different current amplitudes.\n",
        "        What is the spike threshold?\n",
        "        Bonus: Does the spike threshold depend on the duration of the pulse?\n",
        "        \n",
        "        (Hint: you can use the odeint function to integrate a system of equations.\n",
        "        Docs: https://docs.scipy.org/doc/scipy/reference/generated/scipy.integrate.odeint.html)\n",
        "        Example:\n",
        "            X = odeint(self.dALLdt, [-65, 0.05, 0.6, 0.32], self.t, args=(self,))\n",
        "            V = X[:,0]\n",
        "            m = X[:,1]\n",
        "            h = X[:,2]\n",
        "            n = X[:,3]\n",
        "        Here, the [-65, 0.05, 0.6, 0.32] are the initial values for V, m, h, and n respectively.\n",
        "\n",
        "        I used the parameters iamp and tstep to represent the amplitude and the start/stop of\n",
        "        some external input. You can feel free to define it in a similar fashion, or implement\n",
        "        your own way of getting the injected current.\n",
        "        \"\"\"\n",
        "        ...\n",
        "        for i0 in range(0,np.size(iamp)):             # loop over different amplidtudes\n",
        "            self.iinj = [iamp[i0],tstep[0],tstep[1]]  # set the amplitude and start/ stop of the injected step current\n",
        "            X = odeint(self.dALLdt, [-65, 0.05, 0.6, 0.32], self.t, args=(self,)) # integrate the values over time\n",
        "            V = X[:,0] # access all of the values for V\n",
        "            m = X[:,1]\n",
        "            h = X[:,2]\n",
        "            n = X[:,3]\n",
        "        ...\n",
        "\n",
        "    def HH_EX1b(self,iamp,tstep):\n",
        "        \"\"\"\n",
        "        Simulate a HH neuron subject to a direct (constant) current injection.\n",
        "        * Characterize the voltage response as function of the current amplitude.\n",
        "        * Plot the f-I curve.\n",
        "        (Hint: you can use the odeint() function to integrate a system of equations.\n",
        "        Docs: https://docs.scipy.org/doc/scipy/reference/generated/scipy.integrate.odeint.html)\n",
        "        (Hint: you can use the find_peaks() function from scipy.signal to find when the model neuron spikes.\n",
        "        Docs: https://docs.scipy.org/doc/scipy/reference/generated/scipy.signal.find_peaks.html\n",
        "        Example: \n",
        "        sps.find_peaks(V, 0)) # finds all local maxima that have values larger than 0\n",
        "        \"\"\"\n",
        "        \n",
        "        ...\n",
        "\n",
        "        \n",
        "        \n",
        "    def HH_EX1c(self,iamp,tstep):\n",
        "        \"\"\"\n",
        "        For the HH neuron in Exercise 1a,\n",
        "        * Pick a current amplitude above the spiking threshold.\n",
        "        * For each pair of variables V, m, n, h (6 pairs), plot one variable as a function of the other.\n",
        "        * Identify pairs that are most strongly correlated. \n",
        "          How can this identification help in reducing the neuron model’s dimension?\n",
        "        * Does the choice of current amplitude affect which pairs of variables are most correlated?\n",
        "        (Hint: you can use the odeint function to integrate a system of equations.\n",
        "        Docs: https://docs.scipy.org/doc/scipy/reference/generated/scipy.integrate.odeint.html)\n",
        "        \"\"\"\n",
        "\n",
        "        ...\n"
      ],
      "metadata": {
        "id": "TjRIYvmJnKYm"
      },
      "execution_count": null,
      "outputs": []
    },
    {
      "cell_type": "code",
      "source": [
        "# You can use the following code to define some input current and call your HH_EX1a function.\n",
        "\n",
        "iamp = np.arange(...,...,...) # some amplitudes to loop over\n",
        "tstep = [10, 12] # start and stop of the step current\n",
        "\n",
        "runner1a = HodgkinHuxley(np.arange(0.0, 50.0, 0.1)) # simulate for 50ms\n",
        "runner1a.HH_EX1a(...)"
      ],
      "metadata": {
        "id": "ykxCCxLQhMU0"
      },
      "execution_count": null,
      "outputs": []
    },
    {
      "cell_type": "code",
      "source": [
        "# You can use the following code to define some input current and call your HH_EX1b function.\n",
        "\n",
        "runner1b = HodgkinHuxley(np.arange(0.0, 1000.0, 0.1)) # simulate for 1000ms\n",
        "runner1b.HH_EX1b(...)"
      ],
      "metadata": {
        "id": "G_KSDVB7hgwR"
      },
      "execution_count": null,
      "outputs": []
    },
    {
      "cell_type": "code",
      "source": [
        "# You can use the following code to define some input current and call your HH_EX1c function.\n",
        "\n",
        "runner1c = HodgkinHuxley(np.arange(0.0, 1000.0, 0.1)) # simulate for 1000ms\n",
        "runner1c.HH_EX1c(...)"
      ],
      "metadata": {
        "id": "di5J9IVphjMh"
      },
      "execution_count": null,
      "outputs": []
    },
    {
      "cell_type": "markdown",
      "source": [
        "# Exercise 2 - From four to two dimensions\n",
        "Simulate a FitzHugh-Nagumo neuron model.\n",
        "* Plot the f-I curve.\n",
        "* Is it similar to what you got for the HH neuron?\n",
        "* Are there ways in which the two models are different?\n",
        "* Try to think of a scenario where it would be important to simulate the more complicated neuron model."
      ],
      "metadata": {
        "id": "SKpiq0R3uEzX"
      }
    },
    {
      "cell_type": "markdown",
      "source": [
        "Hint for simulating FitzHugh-Nagumo model:\n",
        "You have already simulated the Hodgkin-Huxley model: four coupled differential equations\n",
        "\n",
        "\\begin{aligned}\n",
        "&C \\frac{\\mathrm{d} V}{\\mathrm{~d} t}=-\\bar{g}_{\\mathrm{K}} n^{4}\\left(V-V_{\\mathrm{K}}\\right)-\\bar{g}_{\\mathrm{Na}} m^{3} h\\left(V-V_{\\mathrm{Na}}\\right)-\\bar{g}_{1}\\left(V-V_{\\mathrm{l}}\\right)+I \\\\\n",
        "&\\frac{\\mathrm{d} n}{\\mathrm{~d} t}=\\alpha_{n}(V)(1-n)+\\beta_{n}(V) n \\\\\n",
        "&\\frac{\\mathrm{d} m}{\\mathrm{~d} t}=\\alpha_{m}(V)(1-m)+\\beta_{m}(V) m \\\\\n",
        "&\\frac{\\mathrm{d} h}{\\mathrm{~d} t}=\\alpha_{h}(V)(1-h)+\\beta_{h}(V) h\n",
        "\\end{aligned}\n",
        "\n",
        "The right hand side of each equation is the time derivative of the corresponding state variable. The python code computes this time derivative and puts it into a ODE solver.\n",
        "\n",
        "To simulate the FitzHugh-Nagumo model, notice that the system of equations can be written in the same form. Here the system of equations is simpler: two ordinary differential equations.\n",
        "\n",
        "FitzHugh-Nagumo Equations:\n",
        "\\begin{aligned}\n",
        "&\\frac{\\mathrm{d} V}{\\mathrm{~d} t}=V-\\frac{1}{3} V^{3}-W+I \\\\\n",
        "&\\frac{\\mathrm{d} W}{\\mathrm{~d} t}=0.08(V+0.7-0.8 W)\n",
        "\\end{aligned}"
      ],
      "metadata": {
        "id": "lHF3CVYuuhch"
      }
    },
    {
      "cell_type": "code",
      "source": [
        "class FitzHughNagumo():\n",
        "    def __init__(self,time):\n",
        "        self.t = time\n",
        "\n",
        "    def I_inj(self, t, iinj):\n",
        "        \"\"\"\n",
        "        External Current\n",
        "        \"\"\"\n",
        "        return ...\n",
        "\n",
        "    @staticmethod\n",
        "    def dALLdt(X, t, self):\n",
        "        \"\"\"\n",
        "        Integrate\n",
        "        |  :return: calculate membrane potential & activation variable\n",
        "        \"\"\"\n",
        "        V, W = X\n",
        "\n",
        "        dVdt = ...\n",
        "        dWdt = ...\n",
        "        return dVdt, dWdt\n",
        "\n",
        "    def FN_EX2(self,iamp,tstep):\n",
        "        \"\"\"\n",
        "        Simulate a FitzHugh-Nagumo neuron model.\n",
        "        * Plot the f-I curve.\n",
        "        * Is it similar to what you got for the HH neuron?\n",
        "        * Are there ways in which the two models are different?\n",
        "        * Try to think of a scenario where it would be important to simulate the more complicated neuron model.\n",
        "          \n",
        "          You can use odeint again to integrate:\n",
        "            X = odeint(self.dALLdt, [-1, 0], self.t, args=(self,))\n",
        "            V = X[:,0]\n",
        "            W = X[:,1]\n",
        "          The intial values -1 for V and 0 for W should yield reasonable results.\n",
        "        \"\"\"\n",
        "\n",
        "        ...\n"
      ],
      "metadata": {
        "id": "w23YgCXKvRiY"
      },
      "execution_count": null,
      "outputs": []
    },
    {
      "cell_type": "code",
      "source": [
        "# You can use the following code to define some input current and call your FN_EX2 function.\n",
        "\n",
        "\n",
        "runner2 = FitzHughNagumo(...)\n",
        "runner2.FN_EX2(...)"
      ],
      "metadata": {
        "id": "Bc5boECBvbwq"
      },
      "execution_count": null,
      "outputs": []
    },
    {
      "cell_type": "markdown",
      "source": [
        "# Exercise 3 - From two to one dimension \n",
        "Simulate a leaky integrate and fire neuron, subject to direct current injection.\n",
        "\n",
        "* Plot the f-I curve.\n",
        "  * What aspects of the f-I curves of Exercises 1a, 1b does it capture?\n",
        "  * What aspects does it not capture?\n",
        "* Try to think of a scenario where it would be important to simulate the more complicated neuron model.\n",
        "\n",
        "\n",
        "\n",
        "You are free to use the following tutorial from Neuromatch academy to learn more about the leaky integrate and fire model:\n",
        "\n",
        "[NMA, week 2, day 3, tutorial 1](https://compneuro.neuromatch.io/tutorials/W2D3_BiologicalNeuronModels/student/W2D3_Tutorial1.html)\n"
      ],
      "metadata": {
        "id": "6SaeDn25wChT"
      }
    },
    {
      "cell_type": "code",
      "source": [
        "Vth = 1    # threshold voltage\n",
        "Vr  = 0    # reset voltage\n",
        "tref = 2   # refractory period [ms]\n",
        "dt = 0.05  # integration timestep [ms]\n",
        "T  = 1000  # simulation duration [ms]\n",
        "\n",
        "t      = np.arange(0.0, T, dt)          # time array\n",
        "InjAmp = np.arange(0,6,0.1)             # injected amplitude  \n",
        "freq   = np.zeros(np.size(InjAmp),)     # frequency array\n",
        "Lt     = np.size(t)\n",
        "Vt     = np.zeros([np.size(InjAmp),Lt]) # voltage trace array\n",
        "\n",
        "# Please finish the implementation of the LIF below"
      ],
      "metadata": {
        "id": "FuG2BqjlwoKe"
      },
      "execution_count": null,
      "outputs": []
    },
    {
      "cell_type": "markdown",
      "source": [
        "# Exercise 4\n",
        "Simulate a **LIF** neuron subject a noisy input current (using uncorrelated Gaussian noise). For this exercise it is sufficient to generate gaussian noise centered at 0 while varying the standard deviation. Hint: you can use [np.random.normal](https://numpy.org/doc/stable/reference/random/generated/numpy.random.normal.html) to draw (pseudo) random numbers from a gaussian distribution.\n",
        "\n",
        "* Plot the **f-I curve**: average spike frequency as a function of the standard deviation of the input.\n",
        "\n",
        "  Do this for a few different values of the standard deviation of the input noise.\n",
        "\n",
        "* Plot the inter-spike-interval distribution of the neuron.\n",
        "\n",
        "  Describe in words what the inter-spike-interval distribution would be if the input was constant (with no noise)?\n",
        "\n",
        "  Comment on how these distributions can be used to characterize the input statistics."
      ],
      "metadata": {
        "id": "R8WxXPo81LFD"
      }
    },
    {
      "cell_type": "code",
      "source": [
        ""
      ],
      "metadata": {
        "id": "lxiFFjnu1ssa"
      },
      "execution_count": null,
      "outputs": []
    }
  ]
}